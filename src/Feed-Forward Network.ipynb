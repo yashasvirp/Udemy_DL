{
 "cells": [
  {
   "cell_type": "markdown",
   "id": "b34f67a8",
   "metadata": {},
   "source": [
    "# Fully Connected FeedForward Network\n",
    "\n",
    "Each Node in layer __n__ projects to each and every node in layer __n+1__."
   ]
  },
  {
   "cell_type": "markdown",
   "id": "f22b44ef",
   "metadata": {},
   "source": [
    "## MNIST Dataset\n",
    "\n",
    "Database of images of hand-written digits from 0-9. \n",
    "Exploring the dataset."
   ]
  },
  {
   "cell_type": "code",
   "execution_count": null,
   "id": "d4cf7820",
   "metadata": {},
   "outputs": [],
   "source": []
  }
 ],
 "metadata": {
  "kernelspec": {
   "display_name": "Python 3 (ipykernel)",
   "language": "python",
   "name": "python3"
  },
  "language_info": {
   "codemirror_mode": {
    "name": "ipython",
    "version": 3
   },
   "file_extension": ".py",
   "mimetype": "text/x-python",
   "name": "python",
   "nbconvert_exporter": "python",
   "pygments_lexer": "ipython3",
   "version": "3.10.12"
  }
 },
 "nbformat": 4,
 "nbformat_minor": 5
}
